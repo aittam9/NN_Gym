{
 "cells": [
  {
   "cell_type": "code",
   "execution_count": 21,
   "id": "f67bec3b",
   "metadata": {},
   "outputs": [],
   "source": [
    "import pandas as pd\n",
    "import tensorflow as tf\n",
    "from tensorflow import keras\n",
    "from tensorflow.keras.preprocessing.text import Tokenizer\n",
    "from tensorflow.keras.preprocessing.sequence import pad_sequences\n",
    "from keras import layers\n",
    "from keras.layers import Embedding, Flatten\n",
    "import numpy as np\n",
    "import matplotlib.pyplot as plt\n",
    "#from tf.keras import regularizers"
   ]
  },
  {
   "cell_type": "code",
   "execution_count": 22,
   "id": "a4d18c97",
   "metadata": {},
   "outputs": [],
   "source": [
    "#data upload\n",
    "train_data = pd.read_csv('train.csv')\n",
    "test_data = pd.read_csv('test.csv')"
   ]
  },
  {
   "cell_type": "code",
   "execution_count": 23,
   "id": "8148d150",
   "metadata": {},
   "outputs": [
    {
     "data": {
      "text/html": [
       "<div>\n",
       "<style scoped>\n",
       "    .dataframe tbody tr th:only-of-type {\n",
       "        vertical-align: middle;\n",
       "    }\n",
       "\n",
       "    .dataframe tbody tr th {\n",
       "        vertical-align: top;\n",
       "    }\n",
       "\n",
       "    .dataframe thead th {\n",
       "        text-align: right;\n",
       "    }\n",
       "</style>\n",
       "<table border=\"1\" class=\"dataframe\">\n",
       "  <thead>\n",
       "    <tr style=\"text-align: right;\">\n",
       "      <th></th>\n",
       "      <th>id</th>\n",
       "      <th>keyword</th>\n",
       "      <th>location</th>\n",
       "      <th>text</th>\n",
       "      <th>target</th>\n",
       "    </tr>\n",
       "  </thead>\n",
       "  <tbody>\n",
       "    <tr>\n",
       "      <th>0</th>\n",
       "      <td>1</td>\n",
       "      <td>NaN</td>\n",
       "      <td>NaN</td>\n",
       "      <td>Our Deeds are the Reason of this #earthquake M...</td>\n",
       "      <td>1</td>\n",
       "    </tr>\n",
       "    <tr>\n",
       "      <th>1</th>\n",
       "      <td>4</td>\n",
       "      <td>NaN</td>\n",
       "      <td>NaN</td>\n",
       "      <td>Forest fire near La Ronge Sask. Canada</td>\n",
       "      <td>1</td>\n",
       "    </tr>\n",
       "    <tr>\n",
       "      <th>2</th>\n",
       "      <td>5</td>\n",
       "      <td>NaN</td>\n",
       "      <td>NaN</td>\n",
       "      <td>All residents asked to 'shelter in place' are ...</td>\n",
       "      <td>1</td>\n",
       "    </tr>\n",
       "    <tr>\n",
       "      <th>3</th>\n",
       "      <td>6</td>\n",
       "      <td>NaN</td>\n",
       "      <td>NaN</td>\n",
       "      <td>13,000 people receive #wildfires evacuation or...</td>\n",
       "      <td>1</td>\n",
       "    </tr>\n",
       "    <tr>\n",
       "      <th>4</th>\n",
       "      <td>7</td>\n",
       "      <td>NaN</td>\n",
       "      <td>NaN</td>\n",
       "      <td>Just got sent this photo from Ruby #Alaska as ...</td>\n",
       "      <td>1</td>\n",
       "    </tr>\n",
       "  </tbody>\n",
       "</table>\n",
       "</div>"
      ],
      "text/plain": [
       "   id keyword location                                               text  \\\n",
       "0   1     NaN      NaN  Our Deeds are the Reason of this #earthquake M...   \n",
       "1   4     NaN      NaN             Forest fire near La Ronge Sask. Canada   \n",
       "2   5     NaN      NaN  All residents asked to 'shelter in place' are ...   \n",
       "3   6     NaN      NaN  13,000 people receive #wildfires evacuation or...   \n",
       "4   7     NaN      NaN  Just got sent this photo from Ruby #Alaska as ...   \n",
       "\n",
       "   target  \n",
       "0       1  \n",
       "1       1  \n",
       "2       1  \n",
       "3       1  \n",
       "4       1  "
      ]
     },
     "execution_count": 23,
     "metadata": {},
     "output_type": "execute_result"
    }
   ],
   "source": [
    "train_data.head()"
   ]
  },
  {
   "cell_type": "code",
   "execution_count": 24,
   "id": "6a4677ee",
   "metadata": {},
   "outputs": [],
   "source": [
    "id_list = train_data['id']\n",
    "text_list = train_data['text']\n",
    "target_list = train_data['target']\n"
   ]
  },
  {
   "cell_type": "code",
   "execution_count": 25,
   "id": "867df0a5",
   "metadata": {},
   "outputs": [],
   "source": [
    "train_tweets = [i for i in text_list]\n",
    "ids = [i for i in id_list]\n",
    "targets = [i for i in target_list]"
   ]
  },
  {
   "cell_type": "code",
   "execution_count": 26,
   "id": "26377a5e",
   "metadata": {
    "scrolled": true
   },
   "outputs": [],
   "source": [
    "# traininig data preparation\n",
    "tokenizer = Tokenizer(num_words= 10000)\n",
    "tokenizer.fit_on_texts(train_tweets)\n",
    "word_index = tokenizer.word_index\n",
    "train_tweets = tokenizer.texts_to_sequences(train_tweets)\n",
    "pads = pad_sequences(train_tweets, maxlen = 40)\n",
    "np.random.shuffle(pads)"
   ]
  },
  {
   "cell_type": "code",
   "execution_count": 27,
   "id": "6d77d623",
   "metadata": {},
   "outputs": [],
   "source": [
    "#test data preparation\n",
    "test_tw = test_data['text']\n",
    "test_tweets = [i for i in test_tw]\n",
    "tokenizer.fit_on_texts(test_tweets)\n",
    "test_tweets = tokenizer.texts_to_sequences(test_tweets)\n",
    "test_pads = pad_sequences(test_tweets, maxlen = 40)\n"
   ]
  },
  {
   "cell_type": "code",
   "execution_count": null,
   "id": "5df8f5a6",
   "metadata": {},
   "outputs": [],
   "source": []
  },
  {
   "cell_type": "code",
   "execution_count": 28,
   "id": "edf66c5f",
   "metadata": {},
   "outputs": [],
   "source": [
    "#validation training set\n",
    "par_train = pads[:7000]\n",
    "val_train = pads[7000:]\n",
    "\n"
   ]
  },
  {
   "cell_type": "code",
   "execution_count": 29,
   "id": "7d7334a7",
   "metadata": {},
   "outputs": [],
   "source": [
    "#validation targets\n",
    "train_targets = np.asarray(targets).astype('int32')\n",
    "partial_train_targets = train_targets[:7000]\n",
    "val_targ = train_targets[7000:]\n"
   ]
  },
  {
   "cell_type": "code",
   "execution_count": 30,
   "id": "72fdf075",
   "metadata": {},
   "outputs": [],
   "source": [
    "#network configuration\n",
    "network = keras.Sequential()\n",
    "network.add(layers.Embedding(10000, 16, input_length = 40 ))\n",
    "#network.add(layers.Flatten())\n",
    "network.add(layers.GlobalAveragePooling1D())\n",
    "network.add(layers.Dense(16, activation = 'relu')) #,kernel_regularizers = regularizers.l2(0.001))\n",
    "network.add(layers.Dense(1, activation = 'sigmoid'))\n"
   ]
  },
  {
   "cell_type": "code",
   "execution_count": 31,
   "id": "f1d278dd",
   "metadata": {},
   "outputs": [],
   "source": [
    "#network compilation\n",
    "network.compile(optimizer = 'adam',\n",
    "               loss = 'binary_crossentropy',\n",
    "               metrics = ['accuracy'])"
   ]
  },
  {
   "cell_type": "code",
   "execution_count": 32,
   "id": "efa7b66a",
   "metadata": {},
   "outputs": [
    {
     "name": "stdout",
     "output_type": "stream",
     "text": [
      "Model: \"sequential_1\"\n",
      "_________________________________________________________________\n",
      "Layer (type)                 Output Shape              Param #   \n",
      "=================================================================\n",
      "embedding_1 (Embedding)      (None, 40, 16)            160000    \n",
      "_________________________________________________________________\n",
      "global_average_pooling1d_1 ( (None, 16)                0         \n",
      "_________________________________________________________________\n",
      "dense_2 (Dense)              (None, 16)                272       \n",
      "_________________________________________________________________\n",
      "dense_3 (Dense)              (None, 1)                 17        \n",
      "=================================================================\n",
      "Total params: 160,289\n",
      "Trainable params: 160,289\n",
      "Non-trainable params: 0\n",
      "_________________________________________________________________\n"
     ]
    }
   ],
   "source": [
    "network.summary()"
   ]
  },
  {
   "cell_type": "code",
   "execution_count": 33,
   "id": "9fcf6e33",
   "metadata": {},
   "outputs": [
    {
     "name": "stdout",
     "output_type": "stream",
     "text": [
      "Epoch 1/20\n",
      "14/14 [==============================] - 1s 26ms/step - loss: 0.6916 - accuracy: 0.5540 - val_loss: 0.6953 - val_accuracy: 0.4715\n",
      "Epoch 2/20\n",
      "14/14 [==============================] - 0s 13ms/step - loss: 0.6867 - accuracy: 0.5790 - val_loss: 0.6994 - val_accuracy: 0.4715\n",
      "Epoch 3/20\n",
      "14/14 [==============================] - 0s 14ms/step - loss: 0.6822 - accuracy: 0.5790 - val_loss: 0.7073 - val_accuracy: 0.4715\n",
      "Epoch 4/20\n",
      "14/14 [==============================] - 0s 13ms/step - loss: 0.6792 - accuracy: 0.5790 - val_loss: 0.7148 - val_accuracy: 0.4715\n",
      "Epoch 5/20\n",
      "14/14 [==============================] - 0s 10ms/step - loss: 0.6780 - accuracy: 0.5790 - val_loss: 0.7183 - val_accuracy: 0.4715\n",
      "Epoch 6/20\n",
      "14/14 [==============================] - 0s 12ms/step - loss: 0.6770 - accuracy: 0.5790 - val_loss: 0.7170 - val_accuracy: 0.4715\n",
      "Epoch 7/20\n",
      "14/14 [==============================] - 0s 14ms/step - loss: 0.6758 - accuracy: 0.5790 - val_loss: 0.7160 - val_accuracy: 0.4715\n",
      "Epoch 8/20\n",
      "14/14 [==============================] - 0s 13ms/step - loss: 0.6743 - accuracy: 0.5790 - val_loss: 0.7167 - val_accuracy: 0.4715\n",
      "Epoch 9/20\n",
      "14/14 [==============================] - 0s 11ms/step - loss: 0.6725 - accuracy: 0.5790 - val_loss: 0.7171 - val_accuracy: 0.4715\n",
      "Epoch 10/20\n",
      "14/14 [==============================] - 0s 14ms/step - loss: 0.6703 - accuracy: 0.5790 - val_loss: 0.7175 - val_accuracy: 0.4715\n",
      "Epoch 11/20\n",
      "14/14 [==============================] - 0s 13ms/step - loss: 0.6674 - accuracy: 0.5790 - val_loss: 0.7163 - val_accuracy: 0.4715\n",
      "Epoch 12/20\n",
      "14/14 [==============================] - 0s 12ms/step - loss: 0.6639 - accuracy: 0.5790 - val_loss: 0.7180 - val_accuracy: 0.4715\n",
      "Epoch 13/20\n",
      "14/14 [==============================] - 0s 12ms/step - loss: 0.6594 - accuracy: 0.5790 - val_loss: 0.7168 - val_accuracy: 0.4715\n",
      "Epoch 14/20\n",
      "14/14 [==============================] - 0s 12ms/step - loss: 0.6528 - accuracy: 0.5791 - val_loss: 0.7183 - val_accuracy: 0.4698\n",
      "Epoch 15/20\n",
      "14/14 [==============================] - 0s 13ms/step - loss: 0.6446 - accuracy: 0.5874 - val_loss: 0.7206 - val_accuracy: 0.4682\n",
      "Epoch 16/20\n",
      "14/14 [==============================] - 0s 12ms/step - loss: 0.6355 - accuracy: 0.6027 - val_loss: 0.7191 - val_accuracy: 0.4780\n",
      "Epoch 17/20\n",
      "14/14 [==============================] - 0s 9ms/step - loss: 0.6245 - accuracy: 0.6423 - val_loss: 0.7282 - val_accuracy: 0.4796\n",
      "Epoch 18/20\n",
      "14/14 [==============================] - 0s 12ms/step - loss: 0.6116 - accuracy: 0.6530 - val_loss: 0.7207 - val_accuracy: 0.4829\n",
      "Epoch 19/20\n",
      "14/14 [==============================] - 0s 12ms/step - loss: 0.5989 - accuracy: 0.6887 - val_loss: 0.7353 - val_accuracy: 0.4845\n",
      "Epoch 20/20\n",
      "14/14 [==============================] - 0s 11ms/step - loss: 0.5841 - accuracy: 0.7211 - val_loss: 0.7392 - val_accuracy: 0.4845\n"
     ]
    }
   ],
   "source": [
    "history = network.fit(par_train, partial_train_targets,\n",
    "                    epochs = 10,\n",
    "                    batch_size = 512,\n",
    "                    validation_data = (val_train, val_targ))"
   ]
  },
  {
   "cell_type": "code",
   "execution_count": 34,
   "id": "9b3219b0",
   "metadata": {},
   "outputs": [],
   "source": [
    "history_dict = history.history"
   ]
  },
  {
   "cell_type": "code",
   "execution_count": 35,
   "id": "ad74fc01",
   "metadata": {},
   "outputs": [],
   "source": [
    "#define a train/val loss plot\n",
    "def plot_test_val_loss(history_dict):\n",
    "    train_loss = history_dict['loss']\n",
    "    val_loss = history_dict['val_loss']\n",
    "    acc = history_dict['accuracy']\n",
    "    epochs = range(1, len(acc) + 1)\n",
    "\n",
    "    plt.plot(epochs, train_loss, 'bo', label = 'Training Loss')\n",
    "    plt.plot(epochs, val_loss, 'b', label = 'Validation Loss')\n",
    "    plt.title('Training and Validation Loss')\n",
    "    plt.xlabel('Epochs')\n",
    "    plt.ylabel('Loss')\n",
    "    plt.show()"
   ]
  },
  {
   "cell_type": "code",
   "execution_count": 36,
   "id": "e381150b",
   "metadata": {},
   "outputs": [
    {
     "data": {
      "image/png": "[encoded data removed]",
      "text/plain": [
       "<Figure size 432x288 with 1 Axes>"
      ]
     },
     "metadata": {
      "needs_background": "light"
     },
     "output_type": "display_data"
    }
   ],
   "source": [
    "plot_test_val_loss(history_dict)"
   ]
  },
  {
   "cell_type": "code",
   "execution_count": 37,
   "id": "f4f72861",
   "metadata": {},
   "outputs": [],
   "source": [
    "#define a train/val accuracy plot\n",
    "def plot_test_val_acc(history_dict):\n",
    "    acc = history_dict['accuracy']\n",
    "    val_acc = history_dict['val_accuracy']\n",
    "    epochs = range(1, len(acc) + 1)\n",
    "\n",
    "    plt.plot(epochs, acc, 'bo', label = 'Training Accuracy')\n",
    "    plt.plot(epochs, val_acc, 'b', label = 'Validation Accuracy')\n",
    "    plt.title('Training and Validation Accuracy')\n",
    "    plt.xlabel('Epochs')\n",
    "    plt.ylabel('Accuracy')\n",
    "    plt.show()"
   ]
  },
  {
   "cell_type": "code",
   "execution_count": 38,
   "id": "40737862",
   "metadata": {},
   "outputs": [
    {
     "data": {
      "image/png": "[encoded data removed]",
      "text/plain": [
       "<Figure size 432x288 with 1 Axes>"
      ]
     },
     "metadata": {
      "needs_background": "light"
     },
     "output_type": "display_data"
    }
   ],
   "source": [
    "plot_test_val_acc(history_dict)\n"
   ]
  },
  {
   "cell_type": "code",
   "execution_count": null,
   "id": "c944ce72",
   "metadata": {
    "scrolled": false
   },
   "outputs": [],
   "source": []
  },
  {
   "cell_type": "code",
   "execution_count": 39,
   "id": "d575eef5",
   "metadata": {},
   "outputs": [],
   "source": [
    "#network.evaluate(val_train, val_targ)"
   ]
  },
  {
   "cell_type": "code",
   "execution_count": null,
   "id": "457fad0f",
   "metadata": {},
   "outputs": [],
   "source": []
  },
  {
   "cell_type": "code",
   "execution_count": null,
   "id": "b1127621",
   "metadata": {},
   "outputs": [],
   "source": []
  },
  {
   "cell_type": "code",
   "execution_count": null,
   "id": "841f6261",
   "metadata": {},
   "outputs": [],
   "source": []
  }
 ],
 "metadata": {
  "kernelspec": {
   "display_name": "Python 3 (ipykernel)",
   "language": "python",
   "name": "python3"
  },
  "language_info": {
   "codemirror_mode": {
    "name": "ipython",
    "version": 3
   },
   "file_extension": ".py",
   "mimetype": "text/x-python",
   "name": "python",
   "nbconvert_exporter": "python",
   "pygments_lexer": "ipython3",
   "version": "3.8.10"
  }
 },
 "nbformat": 4,
 "nbformat_minor": 5
}
